{
  "nbformat": 4,
  "nbformat_minor": 0,
  "metadata": {
    "colab": {
      "provenance": [],
      "authorship_tag": "ABX9TyPWEPGhLhnJnwN1cdlPyDjP",
      "include_colab_link": true
    },
    "kernelspec": {
      "name": "python3",
      "display_name": "Python 3"
    },
    "language_info": {
      "name": "python"
    }
  },
  "cells": [
    {
      "cell_type": "markdown",
      "metadata": {
        "id": "view-in-github",
        "colab_type": "text"
      },
      "source": [
        "<a href=\"https://colab.research.google.com/github/lekynam2000/EE4208/blob/main/PCA.ipynb\" target=\"_parent\"><img src=\"https://colab.research.google.com/assets/colab-badge.svg\" alt=\"Open In Colab\"/></a>"
      ]
    },
    {
      "cell_type": "code",
      "execution_count": 1,
      "metadata": {
        "id": "OmraToKlCBK3"
      },
      "outputs": [],
      "source": [
        "%%capture\n",
        "!wget http://vis-www.cs.umass.edu/lfw/lfw.tgz\n",
        "!tar zxvf lfw.tgz"
      ]
    },
    {
      "cell_type": "code",
      "source": [
        "%%capture\n",
        "!pip install mtcnn tensorflow matplotlib sklearn numpy Pillow"
      ],
      "metadata": {
        "id": "ByGHT0m_DBXw"
      },
      "execution_count": 2,
      "outputs": []
    },
    {
      "cell_type": "code",
      "source": [
        "from google.colab import drive\n",
        "drive.mount('/content/gdrive')\n",
        "data_path = \"/content/gdrive/MyDrive/EE4208/Nam_working\"\n",
        "%cd $data_path"
      ],
      "metadata": {
        "colab": {
          "base_uri": "https://localhost:8080/"
        },
        "id": "lb6jQxdBGrgm",
        "outputId": "3cd11a3c-43c1-4967-d8f3-a59a33352145"
      },
      "execution_count": 3,
      "outputs": [
        {
          "output_type": "stream",
          "name": "stdout",
          "text": [
            "Mounted at /content/gdrive\n",
            "/content/gdrive/.shortcut-targets-by-id/11EaBhGyyYl-1KsjTzeurrZifhefN88eu/EE4208/Nam_working\n"
          ]
        }
      ]
    },
    {
      "cell_type": "code",
      "source": [
        "import pickle as pkl\n",
        "\n",
        "with open(\"train_metadata.pkl\",'rb') as f:\n",
        "  train_metadata = pkl.load(f)\n",
        "with open(\"test_metadata.pkl\",'rb') as f:\n",
        "  test_metadata = pkl.load(f)"
      ],
      "metadata": {
        "id": "hASucaKhEiEF"
      },
      "execution_count": 4,
      "outputs": []
    },
    {
      "cell_type": "code",
      "source": [
        "!ls"
      ],
      "metadata": {
        "colab": {
          "base_uri": "https://localhost:8080/"
        },
        "id": "5LD7EMALHjoH",
        "outputId": "92250add-3766-41ca-f6ab-2339b9549fa5"
      },
      "execution_count": 5,
      "outputs": [
        {
          "output_type": "stream",
          "name": "stdout",
          "text": [
            "Build_dataset.ipynb    PCA.ipynb\t  train_metadata.pkl\n",
            "FaceRecognition.ipynb  test_metadata.pkl\n"
          ]
        }
      ]
    },
    {
      "cell_type": "code",
      "source": [
        "%cd /content\n",
        "from PIL import Image\n",
        "import numpy as np\n",
        "for name,data_list in train_metadata.items():\n",
        "  for data in data_list:\n",
        "    img = Image.open(data[\"path\"])\n",
        "    # print(img.size)\n",
        "    # print(data[\"box\"])\n",
        "    box = data['box']\n",
        "    anchor = (box[0],box[1],box[0]+box[2],box[1]+box[3])\n",
        "    img = img.crop(anchor).convert('L')\n",
        "    img = np.array(img)\n",
        "    img = img/255.0\n",
        "    print(img)\n",
        "    break\n",
        "  break\n"
      ],
      "metadata": {
        "colab": {
          "base_uri": "https://localhost:8080/"
        },
        "id": "QVTpGxx7FxYi",
        "outputId": "7af78019-7808-4981-bb74-b0c86a8b6ace"
      },
      "execution_count": 6,
      "outputs": [
        {
          "output_type": "stream",
          "name": "stdout",
          "text": [
            "/content\n",
            "[[0.68235294 0.73333333 0.71764706 ... 0.28627451 0.38431373 0.38039216]\n",
            " [0.70196078 0.74901961 0.70588235 ... 0.2627451  0.33333333 0.36470588]\n",
            " [0.69411765 0.74117647 0.68627451 ... 0.23921569 0.27843137 0.35294118]\n",
            " ...\n",
            " [0.17647059 0.14509804 0.17647059 ... 0.65490196 0.54509804 0.49411765]\n",
            " [0.18431373 0.2        0.17254902 ... 0.68235294 0.52941176 0.45098039]\n",
            " [0.20392157 0.21176471 0.18039216 ... 0.69019608 0.4745098  0.39607843]]\n"
          ]
        }
      ]
    },
    {
      "cell_type": "code",
      "source": [
        "from sklearn.preprocessing import LabelEncoder \n",
        "from sklearn.decomposition import PCA\n",
        "\n",
        "le = LabelEncoder()\n",
        "pca = PCA(n_components=0.9, svd_solver=\"full\")\n"
      ],
      "metadata": {
        "id": "qaunc6KSHbPo"
      },
      "execution_count": 15,
      "outputs": []
    },
    {
      "cell_type": "code",
      "source": [
        "def crop_and_grey(data):\n",
        "  img = Image.open(data[\"path\"])\n",
        "  box = data['box']\n",
        "  anchor = (box[0],box[1],box[0]+box[2],box[1]+box[3])\n",
        "  img = img.crop(anchor).convert('L').resize((90,90))\n",
        "  img = np.array(img)\n",
        "  img = img/255.0\n",
        "  img = np.reshape(img,(-1))\n",
        "  img = np.expand_dims(img,axis=0)\n",
        "  return img"
      ],
      "metadata": {
        "id": "uMf6ZIkA-STR"
      },
      "execution_count": 13,
      "outputs": []
    },
    {
      "cell_type": "code",
      "source": [
        "X_train = None\n",
        "y_train = []\n",
        "for name,data_list in train_metadata.items():\n",
        "  for data in data_list:\n",
        "    img = crop_and_grey(data)\n",
        "    if X_train is None:\n",
        "      X_train = img\n",
        "    else:\n",
        "      X_train = np.vstack((X_train,img))\n",
        "    y_train.append(name)\n",
        "print(f\"Before transform X.shape={X_train.shape}\")\n",
        "X_train = pca.fit_transform(X_train)\n",
        "y_train = le.fit_transform(y_train)\n",
        "print(f\"After transform X.shape={X_train.shape}\")"
      ],
      "metadata": {
        "colab": {
          "base_uri": "https://localhost:8080/"
        },
        "id": "Jx33h-0VWT0V",
        "outputId": "c128ed79-7926-4285-8c5d-f400d4e06369"
      },
      "execution_count": 16,
      "outputs": [
        {
          "output_type": "stream",
          "name": "stdout",
          "text": [
            "Before transform X.shape=(286, 8100)\n",
            "After transform X.shape=(286, 66)\n"
          ]
        }
      ]
    },
    {
      "cell_type": "code",
      "source": [
        "X_test = None\n",
        "y_test = []\n",
        "for name,data_list in test_metadata.items():\n",
        "  for data in data_list:\n",
        "    img = crop_and_grey(data)\n",
        "    if X_test is None:\n",
        "      X_test = img\n",
        "    else:\n",
        "      X_test = np.vstack((X_test,img))\n",
        "    y_test.append(name)\n",
        "print(f\"Before transform X.shape={X_test.shape}\")\n",
        "X_test = pca.transform(X_test)\n",
        "print(f\"After transform X.shape={X_test.shape}\")\n",
        "y_test=le.transform(y_test)\n"
      ],
      "metadata": {
        "colab": {
          "base_uri": "https://localhost:8080/"
        },
        "id": "2AaG3MIG9g5l",
        "outputId": "5ac5612f-a125-46b9-b5cc-ff64467f1bde"
      },
      "execution_count": 24,
      "outputs": [
        {
          "output_type": "stream",
          "name": "stdout",
          "text": [
            "Before transform X.shape=(100, 8100)\n",
            "After transform X.shape=(100, 66)\n"
          ]
        }
      ]
    },
    {
      "cell_type": "code",
      "source": [
        "from sklearn.metrics import accuracy_score"
      ],
      "metadata": {
        "id": "bOtdr9ruCSKg"
      },
      "execution_count": 11,
      "outputs": []
    },
    {
      "cell_type": "code",
      "source": [
        "print(X_train.shape)\n",
        "print(X_test.shape)"
      ],
      "metadata": {
        "colab": {
          "base_uri": "https://localhost:8080/"
        },
        "id": "yncSfvoQE1GM",
        "outputId": "d5b247e7-d91a-4ea0-c1e3-1c1504bc8168"
      },
      "execution_count": 21,
      "outputs": [
        {
          "output_type": "stream",
          "name": "stdout",
          "text": [
            "(286, 66)\n",
            "(100, 66)\n"
          ]
        }
      ]
    },
    {
      "cell_type": "markdown",
      "source": [
        "##KNN Classification"
      ],
      "metadata": {
        "id": "8sajeXqmAEsz"
      }
    },
    {
      "cell_type": "code",
      "source": [
        "from sklearn.neighbors import KNeighborsClassifier"
      ],
      "metadata": {
        "id": "0eIRoXRSAJ9G"
      },
      "execution_count": 18,
      "outputs": []
    },
    {
      "cell_type": "markdown",
      "source": [
        "###Uniform weight "
      ],
      "metadata": {
        "id": "KKADzIQjAgJF"
      }
    },
    {
      "cell_type": "code",
      "source": [
        "print(f\"{'n_neighbors':<20}{'accuracy':<10}\")\n",
        "for n_neighbors in [3,5,10,15]:\n",
        "  clf = KNeighborsClassifier(n_neighbors,weights=\"uniform\")\n",
        "  clf.fit(X_train,y_train)\n",
        "  y_pred = clf.predict(X_test)\n",
        "  acc = accuracy_score(y_test,y_pred)\n",
        "  print(f\"{n_neighbors:<20}{acc:<10}\")"
      ],
      "metadata": {
        "colab": {
          "base_uri": "https://localhost:8080/"
        },
        "id": "ItbkEhgLCEoV",
        "outputId": "d040d88e-73b0-47f2-ad66-24fe4e20349a"
      },
      "execution_count": 27,
      "outputs": [
        {
          "output_type": "stream",
          "name": "stdout",
          "text": [
            "n_neighbors         accuracy  \n",
            "3                   0.11      \n",
            "5                   0.15      \n",
            "10                  0.11      \n",
            "15                  0.07      \n"
          ]
        }
      ]
    },
    {
      "cell_type": "markdown",
      "source": [
        "###Distance weight"
      ],
      "metadata": {
        "id": "WWBWKJZuF-sd"
      }
    },
    {
      "cell_type": "code",
      "source": [
        "print(f\"{'n_neighbors':<20}{'accuracy':<10}\")\n",
        "for n_neighbors in [3,5,10,15]:\n",
        "  clf = KNeighborsClassifier(n_neighbors,weights=\"distance\")\n",
        "  clf.fit(X_train,y_train)\n",
        "  y_pred = clf.predict(X_test)\n",
        "  acc = accuracy_score(y_test,y_pred)\n",
        "  print(f\"{n_neighbors:<20}{acc:<10}\")"
      ],
      "metadata": {
        "colab": {
          "base_uri": "https://localhost:8080/"
        },
        "id": "bxU3c-SGEp5p",
        "outputId": "1ad7c59f-bd4d-4bfa-868e-4a685a6fa760"
      },
      "execution_count": 28,
      "outputs": [
        {
          "output_type": "stream",
          "name": "stdout",
          "text": [
            "n_neighbors         accuracy  \n",
            "3                   0.17      \n",
            "5                   0.18      \n",
            "10                  0.16      \n",
            "15                  0.1       \n"
          ]
        }
      ]
    },
    {
      "cell_type": "code",
      "source": [],
      "metadata": {
        "id": "5RGES_OCGjsI"
      },
      "execution_count": null,
      "outputs": []
    }
  ]
}